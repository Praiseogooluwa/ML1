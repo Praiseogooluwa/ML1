{
 "cells": [
  {
   "cell_type": "markdown",
   "metadata": {
    "id": "2G-aa9eeN-Hv"
   },
   "source": [
    "# Clustering \n",
    "Clustering is a set of techniques used to partition data into groups, or clusters. Clusters are loosely defined as groups of data objects that are more similar to other objects in their cluster than they are to data objects in other clusters. \n",
    "\n",
    "\n",
    "Many clustering algorithms are available in Scikit-Learn and elsewhere, but perhaps the simplest to understand is an algorithm known as k-means clustering, which is implemented in `sklearn.cluster.KMeans`.\n",
    "\n",
    "We begin with the standard imports:"
   ]
  },
  {
   "cell_type": "code",
   "execution_count": 1,
   "metadata": {
    "id": "sxpt7kANJLXA"
   },
   "outputs": [],
   "source": [
    "import matplotlib.pyplot as plt"
   ]
  },
  {
   "cell_type": "markdown",
   "metadata": {
    "id": "cyn7SM6xONdV"
   },
   "source": [
    "# K-Means Clustering Algorithm\n",
    "The k-means algorithm searches for a pre-determined number of clusters within an unlabeled multidimensional dataset. It accomplishes this using a simple conception of what the optimal clustering looks like.\n",
    "\n",
    "The \"cluster center\" is the arithmetic mean of all the points belonging to the cluster.\n",
    "Each point is closer to its own cluster center than to other cluster centers."
   ]
  },
  {
   "cell_type": "markdown",
   "metadata": {
    "id": "_48A7NNyZIbd"
   },
   "source": [
    "## Working\n",
    "Conventional k-means requires only a few steps. The first step is to randomly select k centroids, where k is equal to the number of clusters you choose. Centroids are data points representing the center of a cluster.\n",
    "\n",
    "The main element of the algorithm works by a two-step process called expectation-maximization. The expectation step assigns each data point to its nearest centroid. Then, the maximization step computes the mean of all the points for each cluster and sets the new centroid. Here’s what the conventional version of the k-means algorithm looks like:\n",
    "\n",
    "![](https://files.realpython.com/media/kmeans-algorithm.a94498a7ecd2.png)"
   ]
  },
  {
   "cell_type": "markdown",
   "metadata": {
    "id": "GetcuQqCaB1s"
   },
   "source": [
    "### Imports for implementing K-Means Clustering\n"
   ]
  },
  {
   "cell_type": "code",
   "execution_count": 2,
   "metadata": {
    "colab": {
     "base_uri": "https://localhost:8080/"
    },
    "id": "eru4p-Onbiaw",
    "outputId": "f4fcce76-79d0-463b-9c46-4d4cb9c266cf"
   },
   "outputs": [
    {
     "name": "stdout",
     "output_type": "stream",
     "text": [
      "Requirement already satisfied: kneed in c:\\users\\temitope\\anaconda3\\lib\\site-packages (0.8.5)\n",
      "Requirement already satisfied: numpy>=1.14.2 in c:\\users\\temitope\\anaconda3\\lib\\site-packages (from kneed) (1.21.5)\n",
      "Requirement already satisfied: scipy>=1.0.0 in c:\\users\\temitope\\anaconda3\\lib\\site-packages (from kneed) (1.9.3)\n"
     ]
    }
   ],
   "source": [
    "!pip install kneed"
   ]
  },
  {
   "cell_type": "code",
   "execution_count": 3,
   "metadata": {
    "id": "BohkpYv7aHRL"
   },
   "outputs": [],
   "source": [
    "from kneed import KneeLocator\n",
    "from sklearn.datasets import make_blobs\n",
    "from sklearn.cluster import KMeans\n",
    "from sklearn.preprocessing import StandardScaler"
   ]
  },
  {
   "cell_type": "markdown",
   "metadata": {
    "id": "bPaVdQFOaPj_"
   },
   "source": [
    "First, let's generate a two-dimensional dataset containing four distinct blobs. \n",
    "\n",
    "make_blobs() is a convenience function in scikit-learn used to generate synthetic clusters. It uses these parameters:\n",
    "\n",
    "* n_samples is the total number of samples to generate.\n",
    "* centers is the number of centers to generate.\n",
    "* cluster_std is the standard deviation.\n",
    "\n",
    "Nondeterministic machine learning algorithms like k-means are difficult to reproduce. The random_state parameter is set to an integer value so you can follow the data presented in the tutorial.\n",
    "\n",
    "make_blobs() returns a tuple of two values:\n",
    "\n",
    "* A two-dimensional NumPy array with the x- and y-values for each of the samples\n",
    "* A one-dimensional NumPy array containing the cluster labels for each sample"
   ]
  },
  {
   "cell_type": "code",
   "execution_count": 4,
   "metadata": {
    "id": "llFV4Cr9atJQ"
   },
   "outputs": [],
   "source": [
    "features, true_labels = make_blobs(\n",
    "    n_samples=300,\n",
    "    centers=4,\n",
    "    cluster_std=0.60,\n",
    "    random_state=0\n",
    ")"
   ]
  },
  {
   "cell_type": "markdown",
   "metadata": {
    "id": "1NYbcyd9a_2F"
   },
   "source": [
    "Here’s a look at the first five elements for each of the variables returned by make_blobs():"
   ]
  },
  {
   "cell_type": "code",
   "execution_count": 5,
   "metadata": {
    "scrolled": true
   },
   "outputs": [
    {
     "name": "stdout",
     "output_type": "stream",
     "text": [
      "[1 3 0 3 1 1 2 0 3 3 2 3 0 3 1 0 0 1 2 2 1 1 0 2 2 0 1 0 2 0 3 3 0 3 3 3 3\n",
      " 3 2 1 0 2 0 0 2 2 3 2 3 1 2 1 3 1 1 2 3 2 3 1 3 0 3 2 2 2 3 1 3 2 0 2 3 2\n",
      " 2 3 2 0 1 3 1 0 1 1 3 0 1 0 3 3 0 1 3 2 2 0 1 1 0 2 3 1 3 1 0 1 1 0 3 0 2\n",
      " 2 1 3 1 0 3 1 1 0 2 1 2 1 1 1 1 2 1 2 3 2 2 1 3 2 2 3 0 3 3 2 0 2 0 2 3 0\n",
      " 3 3 3 0 3 0 1 2 3 2 1 0 3 0 0 1 0 2 2 0 1 0 0 3 1 0 2 3 1 1 0 2 1 0 2 2 0\n",
      " 0 0 0 1 3 0 2 0 0 2 2 2 0 2 3 0 2 1 2 0 3 2 3 0 3 0 2 0 0 3 2 2 1 1 0 3 1\n",
      " 1 2 1 2 0 3 3 0 0 3 0 1 2 0 1 2 3 2 1 0 1 3 3 3 3 2 2 3 0 2 1 0 2 2 2 1 1\n",
      " 3 0 0 2 1 3 2 0 3 0 1 1 2 2 0 1 1 1 0 3 3 1 1 0 1 1 1 3 2 3 0 1 1 3 3 3 1\n",
      " 1 0 3 2]\n"
     ]
    }
   ],
   "source": [
    "print(true_labels)"
   ]
  },
  {
   "cell_type": "code",
   "execution_count": 6,
   "metadata": {},
   "outputs": [
    {
     "name": "stdout",
     "output_type": "stream",
     "text": [
      "[[ 8.36856841e-01  2.13635938e+00]\n",
      " [-1.41365810e+00  7.40962324e+00]\n",
      " [ 1.15521298e+00  5.09961887e+00]\n",
      " [-1.01861632e+00  7.81491465e+00]\n",
      " [ 1.27135141e+00  1.89254207e+00]\n",
      " [ 3.43761754e+00  2.61654166e-01]\n",
      " [-1.80822253e+00  1.59701749e+00]\n",
      " [ 1.41372442e+00  4.38117707e+00]\n",
      " [-2.04932168e-01  8.43209665e+00]\n",
      " [-7.11099611e-01  8.66043846e+00]\n",
      " [-1.71237268e+00  2.77780226e+00]\n",
      " [-2.67000792e+00  8.35389140e+00]\n",
      " [ 1.24258802e+00  4.50399192e+00]\n",
      " [-2.22783649e+00  6.89479938e+00]\n",
      " [ 1.45513831e+00 -2.91989981e-02]\n",
      " [ 4.53791789e-01  3.95647753e+00]\n",
      " [ 1.06923853e+00  4.53068484e+00]\n",
      " [ 2.56936589e+00  5.07048304e-01]\n",
      " [-1.06690610e+00  3.13165795e+00]\n",
      " [-1.07859101e+00  2.20451529e+00]\n",
      " [ 2.71506328e+00  1.29082190e+00]\n",
      " [ 1.77710994e+00  1.18655254e+00]\n",
      " [ 7.34363910e-01  5.03725437e+00]\n",
      " [-1.99648151e+00  2.85164868e+00]\n",
      " [-1.91828017e+00  2.60516867e+00]\n",
      " [-5.55523811e-01  4.69595848e+00]\n",
      " [ 1.69747910e+00  8.66123282e-01]\n",
      " [ 5.94762432e-01  4.70964730e+00]\n",
      " [-2.88024255e+00  2.30437816e+00]\n",
      " [ 1.86725632e-01  4.02683656e+00]\n",
      " [-5.13333436e-01  7.87437368e+00]\n",
      " [-2.05701103e+00  7.37851598e+00]\n",
      " [ 1.87271752e+00  4.18069237e+00]\n",
      " [-1.13121396e+00  6.76652230e+00]\n",
      " [-1.64428957e+00  7.94095139e+00]\n",
      " [-2.41933824e+00  7.43952498e+00]\n",
      " [-2.01606928e+00  7.48420129e+00]\n",
      " [-2.62142780e+00  7.98635066e+00]\n",
      " [-2.20299950e+00  2.47947561e+00]\n",
      " [ 1.66382237e+00  6.63091635e-01]\n",
      " [ 6.69786996e-01  3.59540802e+00]\n",
      " [-1.98539037e+00  2.05520738e+00]\n",
      " [-4.74920358e-02  5.47425256e+00]\n",
      " [ 1.54462126e+00  4.21078127e+00]\n",
      " [-1.70200643e+00  2.46098693e+00]\n",
      " [-1.02192525e+00  2.76820711e+00]\n",
      " [-1.37842552e+00  8.10269597e+00]\n",
      " [-1.55220688e+00  2.74574995e+00]\n",
      " [-1.47904303e+00  7.56915836e+00]\n",
      " [ 1.98894313e+00  1.50976729e+00]\n",
      " [-1.94972418e+00  3.48383870e+00]\n",
      " [ 2.45509737e+00  6.21231788e-01]\n",
      " [-8.94327882e-01  7.61714473e+00]\n",
      " [ 1.69687788e+00  7.54910622e-01]\n",
      " [ 1.75644805e+00  2.05538289e+00]\n",
      " [-1.11064012e+00  2.82213820e+00]\n",
      " [-4.15017659e-02  7.80870276e+00]\n",
      " [-1.14091533e+00  1.97550822e+00]\n",
      " [-1.80634968e+00  7.72830656e+00]\n",
      " [ 1.39263752e+00  9.28962707e-01]\n",
      " [-2.25698670e+00  7.30207720e+00]\n",
      " [ 5.71670482e-01  4.32288566e+00]\n",
      " [-1.54994580e+00  9.28293222e+00]\n",
      " [-1.03819212e+00  2.95323761e+00]\n",
      " [-2.10956676e+00  3.10677258e+00]\n",
      " [-1.18652985e+00  2.78427720e+00]\n",
      " [-2.45809975e+00  7.51178724e+00]\n",
      " [ 2.36960214e+00  9.50716912e-01]\n",
      " [-2.66676007e+00  7.84766052e+00]\n",
      " [-1.49720702e+00  3.21418433e+00]\n",
      " [ 1.32222457e+00  4.17880807e+00]\n",
      " [-4.87271301e-01  3.32858293e+00]\n",
      " [-1.03718771e+00  8.06300134e+00]\n",
      " [-1.60496819e+00  2.97425420e+00]\n",
      " [-1.50372568e+00  1.92385320e+00]\n",
      " [-7.85412206e-01  8.45312331e+00]\n",
      " [-1.75783190e+00  2.97449321e+00]\n",
      " [ 1.19008992e+00  4.72773123e+00]\n",
      " [ 2.14043942e+00  7.06066610e-01]\n",
      " [-1.03540116e+00  8.20559195e+00]\n",
      " [ 1.25471244e+00  8.96331565e-02]\n",
      " [ 5.95676822e-01  4.08614263e+00]\n",
      " [ 1.27955338e+00  1.05789418e+00]\n",
      " [ 1.72955064e+00  1.14729369e+00]\n",
      " [-9.49041610e-01  8.46424331e+00]\n",
      " [ 9.35325115e-01  5.33179296e+00]\n",
      " [ 2.36923352e+00  7.94735861e-01]\n",
      " [ 4.28576743e-01  4.97399710e+00]\n",
      " [-2.04758277e+00  6.65428520e+00]\n",
      " [-1.45672617e+00  7.48669893e+00]\n",
      " [ 5.29417185e-01  3.80792420e+00]\n",
      " [ 1.78194802e+00  9.08151155e-01]\n",
      " [-1.95575053e+00  8.61631686e+00]\n",
      " [-1.74572014e+00  3.01190457e+00]\n",
      " [-1.17979111e+00  3.12767494e+00]\n",
      " [ 1.16411070e+00  3.79132988e+00]\n",
      " [ 1.36155806e+00  1.36638252e+00]\n",
      " [ 2.60137487e+00  1.08799459e+00]\n",
      " [ 2.72396035e-01  5.46996004e+00]\n",
      " [-3.12240736e+00  3.28167398e+00]\n",
      " [-5.88085172e-01  8.61427320e+00]\n",
      " [ 1.66909648e+00 -4.36378231e-01]\n",
      " [-6.82774903e-01  7.67490317e+00]\n",
      " [ 2.36790645e+00  5.52190878e-01]\n",
      " [ 1.05241733e+00  4.54498095e+00]\n",
      " [ 2.22707373e+00  1.26296996e+00]\n",
      " [ 2.43934644e+00 -7.25099666e-02]\n",
      " [ 1.34471770e+00  4.85711133e+00]\n",
      " [-1.31454942e+00  6.83904013e+00]\n",
      " [ 9.82570091e-01  5.37530962e+00]\n",
      " [-1.06295223e+00  2.20755388e+00]\n",
      " [-1.60712495e+00  3.56452854e+00]\n",
      " [ 1.57322172e+00  4.83933793e-01]\n",
      " [-2.17851338e+00  8.08585131e+00]\n",
      " [ 1.83375842e+00  7.54036153e-01]\n",
      " [ 2.10616050e+00  3.49513189e+00]\n",
      " [-1.64338755e+00  7.52691964e+00]\n",
      " [ 1.10550448e+00  1.26389129e+00]\n",
      " [ 1.61152972e+00  1.82347242e+00]\n",
      " [ 4.59534668e-01  5.44982630e+00]\n",
      " [-5.38023054e-01  3.01641891e+00]\n",
      " [ 1.67841499e+00  6.09047389e-01]\n",
      " [-1.01214966e+00  3.60254338e+00]\n",
      " [ 1.34195197e+00  5.93573847e-01]\n",
      " [ 1.42811550e+00  1.62435083e+00]\n",
      " [ 2.04505527e+00  1.12515470e+00]\n",
      " [ 1.67280531e+00  6.59300571e-01]\n",
      " [-1.35863899e+00  2.32200809e+00]\n",
      " [ 1.13078931e+00  9.35620856e-01]\n",
      " [-1.73896306e+00  1.94799775e+00]\n",
      " [-3.40258925e-01  8.16733925e+00]\n",
      " [-1.63793622e+00  2.43329317e+00]\n",
      " [-1.68754414e+00  2.24107546e+00]\n",
      " [ 2.43040639e+00 -6.35709334e-02]\n",
      " [-1.37998039e+00  7.18503804e+00]\n",
      " [-1.25245465e+00  2.33911505e+00]\n",
      " [-2.39482483e+00  3.39806103e+00]\n",
      " [-2.09183352e+00  7.48142543e+00]\n",
      " [ 4.88382309e-01  3.26801777e+00]\n",
      " [-5.39428614e-01  7.45631776e+00]\n",
      " [-2.59201821e+00  8.07635945e+00]\n",
      " [-1.04656513e+00  2.96483837e+00]\n",
      " [ 1.25566754e+00  3.38204112e+00]\n",
      " [-1.62150422e+00  4.27191636e+00]\n",
      " [ 1.86922139e+00  5.44132083e+00]\n",
      " [-1.76404140e+00  2.22222995e+00]\n",
      " [-1.38181918e+00  7.28761248e+00]\n",
      " [ 7.93137001e-03  4.17614316e+00]\n",
      " [-1.10298500e+00  7.30222786e+00]\n",
      " [-1.79351372e+00  7.58086944e+00]\n",
      " [-1.51176949e+00  7.94426307e+00]\n",
      " [ 9.59360742e-01  4.56078645e+00]\n",
      " [-6.01337393e-01  6.29994922e+00]\n",
      " [ 2.24592863e-01  4.77028154e+00]\n",
      " [ 1.56724897e+00  1.78090633e-02]\n",
      " [-1.03395259e+00  2.92105785e+00]\n",
      " [-9.22268640e-01  8.09888579e+00]\n",
      " [-1.88609638e+00  2.24834407e+00]\n",
      " [ 1.86873582e+00  9.56103760e-01]\n",
      " [ 1.10123507e+00  4.88977075e+00]\n",
      " [-1.93213725e+00  8.30643453e+00]\n",
      " [ 6.70478769e-01  4.04094275e+00]\n",
      " [ 7.43873988e-01  4.12240568e+00]\n",
      " [ 1.64003761e+00  1.81948989e+00]\n",
      " [ 8.15468056e-01  4.78526116e+00]\n",
      " [-2.63274574e+00  2.63109786e+00]\n",
      " [-9.61076361e-01  1.27407596e+00]\n",
      " [ 2.13979079e-01  4.88542535e+00]\n",
      " [ 1.43472182e+00  1.30662037e+00]\n",
      " [ 1.21387411e+00  3.64795042e+00]\n",
      " [ 1.08272576e+00  4.06271877e+00]\n",
      " [-1.22605234e+00  8.29620146e+00]\n",
      " [ 1.48170052e+00  6.90074595e-01]\n",
      " [ 1.89593761e+00  5.18540259e+00]\n",
      " [-1.32356154e+00  4.13050840e+00]\n",
      " [-1.14989863e+00  7.89325283e+00]\n",
      " [ 2.46915842e+00  1.67877140e+00]\n",
      " [ 2.31102276e+00  1.30380848e+00]\n",
      " [ 5.72793810e-01  4.08805543e+00]\n",
      " [-9.67794989e-01  3.12186125e+00]\n",
      " [ 2.62492001e+00  9.50194405e-01]\n",
      " [ 1.68353782e+00  4.19583243e+00]\n",
      " [-2.22131717e+00  2.73050691e+00]\n",
      " [-1.57846247e+00  3.03445802e+00]\n",
      " [ 8.15155229e-02  4.56742235e+00]\n",
      " [ 1.43289271e+00  4.37679234e+00]\n",
      " [ 1.06269622e+00  5.17635143e+00]\n",
      " [ 7.67522789e-01  4.39759671e+00]\n",
      " [ 2.47019077e+00  1.31451315e+00]\n",
      " [-1.73163168e+00  7.16447286e+00]\n",
      " [ 3.47138300e-01  3.45177657e+00]\n",
      " [-1.00140436e+00  2.84881778e+00]\n",
      " [ 1.01618041e+00  4.48527047e+00]\n",
      " [ 5.59529363e-01  4.21400660e+00]\n",
      " [-2.11821046e+00  2.03478126e+00]\n",
      " [-1.36219420e+00  2.38333321e+00]\n",
      " [-2.78366586e+00  2.99211541e+00]\n",
      " [ 1.65225163e+00  3.65582842e+00]\n",
      " [-1.93960658e+00  2.18943582e+00]\n",
      " [-1.81487687e+00  7.97832190e+00]\n",
      " [ 1.20212540e+00  3.64414685e+00]\n",
      " [-9.69200946e-01  3.26721702e+00]\n",
      " [ 1.86985974e+00 -1.07938624e-01]\n",
      " [-1.80701134e+00  2.06773859e+00]\n",
      " [ 1.21767506e+00  3.89290127e+00]\n",
      " [-1.48368917e+00  6.00777418e+00]\n",
      " [-1.56387985e+00  2.85349910e+00]\n",
      " [-6.86210297e-01  8.68285664e+00]\n",
      " [ 1.07627418e+00  4.68480619e+00]\n",
      " [-9.75986627e-01  6.73761577e+00]\n",
      " [ 1.37964693e+00  4.54826443e+00]\n",
      " [-1.64129611e+00  2.68097255e+00]\n",
      " [-1.84892963e-03  4.58145668e+00]\n",
      " [ 1.71444449e+00  5.02521524e+00]\n",
      " [-1.40524304e+00  7.72611315e+00]\n",
      " [-7.08184904e-01  2.50421275e+00]\n",
      " [-8.85798374e-01  2.64585078e+00]\n",
      " [ 1.98436909e+00  4.89556738e-01]\n",
      " [ 2.95195825e+00 -3.44327355e-01]\n",
      " [ 4.31891060e-01  4.33495456e+00]\n",
      " [-1.86621694e+00  7.62549400e+00]\n",
      " [ 2.52706430e+00  6.17812202e-01]\n",
      " [ 2.04067185e+00  4.54845114e-01]\n",
      " [-2.58043836e+00  3.18844294e+00]\n",
      " [ 1.61990909e+00  6.76452867e-02]\n",
      " [-2.58802708e+00  3.13117134e+00]\n",
      " [ 4.43598630e-01  3.11530945e+00]\n",
      " [-4.56773649e-01  7.30600872e+00]\n",
      " [-1.12867566e+00  7.80509789e+00]\n",
      " [ 2.13003529e+00  5.19209620e+00]\n",
      " [ 1.00372519e+00  4.19147702e+00]\n",
      " [-1.39346767e+00  8.74641672e+00]\n",
      " [ 7.28098690e-01  3.85531444e+00]\n",
      " [ 8.93499638e-01  1.01093082e+00]\n",
      " [-1.10782972e+00  2.92014479e+00]\n",
      " [ 7.89338559e-01  4.33748653e+00]\n",
      " [ 1.97553917e+00  7.18989132e-01]\n",
      " [-1.24902582e+00  3.08533972e+00]\n",
      " [-1.07768797e+00  8.88106128e+00]\n",
      " [-1.86849125e+00  3.07982487e+00]\n",
      " [ 2.76808540e+00  1.08782923e+00]\n",
      " [ 2.77180174e-01  4.84428322e+00]\n",
      " [ 3.41085289e+00  8.72309369e-01]\n",
      " [-1.58084155e+00  7.55307742e+00]\n",
      " [-1.53027550e+00  7.70542113e+00]\n",
      " [-1.82455840e+00  7.35958960e+00]\n",
      " [-1.68568257e+00  7.95339446e+00]\n",
      " [-1.65104622e+00  3.44598961e+00]\n",
      " [-1.30440901e+00  3.00311934e+00]\n",
      " [-7.30698168e-01  6.24208856e+00]\n",
      " [ 2.40615694e+00  4.87047502e+00]\n",
      " [-1.53631328e+00  3.01443916e+00]\n",
      " [ 1.48859977e+00  6.51633844e-01]\n",
      " [ 5.14320434e-01  4.62733684e+00]\n",
      " [-1.81469750e+00  3.29009724e+00]\n",
      " [-1.93731055e+00  3.91361274e+00]\n",
      " [-6.14907097e-01  3.94963585e+00]\n",
      " [ 2.03169783e+00  1.96807561e-01]\n",
      " [ 2.14917144e+00  1.03697228e+00]\n",
      " [-1.36999388e+00  7.76953035e+00]\n",
      " [ 9.14338767e-01  4.55014643e+00]\n",
      " [ 3.33818506e-01  4.93645836e+00]\n",
      " [-2.15968109e+00  3.41003096e+00]\n",
      " [ 1.36678633e+00  6.34971633e-01]\n",
      " [-5.71099336e-01  8.13306058e+00]\n",
      " [-1.00552592e+00  3.08400540e+00]\n",
      " [ 1.49493180e+00  3.85848832e+00]\n",
      " [-5.90447667e-01  7.69493053e+00]\n",
      " [ 7.15177948e-01  5.41334556e+00]\n",
      " [ 2.11390250e+00  1.24743587e+00]\n",
      " [ 1.20083098e+00  6.01671730e-01]\n",
      " [-2.54576750e+00  3.15025055e+00]\n",
      " [-1.95866665e+00  2.43008647e+00]\n",
      " [ 2.33812285e+00  3.43116792e+00]\n",
      " [ 3.35320909e+00  1.69958043e+00]\n",
      " [ 1.84287117e+00  7.26928839e-02]\n",
      " [ 1.32000621e+00  1.40428145e+00]\n",
      " [ 2.09680545e+00  4.84741412e+00]\n",
      " [-1.24307904e+00  8.15166254e+00]\n",
      " [-1.85908090e+00  7.78874716e+00]\n",
      " [ 2.74666646e+00  1.54543482e+00]\n",
      " [ 2.60778282e+00  1.08890025e+00]\n",
      " [ 1.65991049e+00  3.56289184e+00]\n",
      " [ 2.35151259e+00  8.28001297e-01]\n",
      " [ 2.22322228e+00  8.38773426e-01]\n",
      " [ 3.22881491e+00  1.13171965e+00]\n",
      " [-1.55876720e+00  7.24816210e+00]\n",
      " [-6.46956784e-01  3.42941343e+00]\n",
      " [-1.32688818e+00  8.51530794e+00]\n",
      " [ 9.17198564e-01  3.90570036e+00]\n",
      " [ 2.29469533e+00 -7.65891994e-01]\n",
      " [ 1.81559810e+00  1.11969719e+00]\n",
      " [-1.12016775e+00  7.11031582e+00]\n",
      " [-1.65507124e+00  8.61416749e+00]\n",
      " [-1.27567815e+00  7.96776461e+00]\n",
      " [ 1.97369770e+00  1.57979848e+00]\n",
      " [ 2.51834185e+00  1.39176615e+00]\n",
      " [ 4.38990142e-01  4.53592883e+00]\n",
      " [ 3.69478657e-01  7.79110522e+00]\n",
      " [-1.79145759e+00  2.74966896e+00]]\n"
     ]
    }
   ],
   "source": [
    "print(features)"
   ]
  },
  {
   "cell_type": "code",
   "execution_count": 7,
   "metadata": {
    "colab": {
     "base_uri": "https://localhost:8080/"
    },
    "id": "XjGFs2iUbKUP",
    "outputId": "0b5be386-91aa-4b9a-ed53-2a06b008e2d0"
   },
   "outputs": [
    {
     "data": {
      "text/plain": [
       "array([[ 0.83685684,  2.13635938],\n",
       "       [-1.4136581 ,  7.40962324],\n",
       "       [ 1.15521298,  5.09961887],\n",
       "       [-1.01861632,  7.81491465],\n",
       "       [ 1.27135141,  1.89254207]])"
      ]
     },
     "execution_count": 7,
     "metadata": {},
     "output_type": "execute_result"
    }
   ],
   "source": [
    "features[:5]"
   ]
  },
  {
   "cell_type": "code",
   "execution_count": 8,
   "metadata": {
    "colab": {
     "base_uri": "https://localhost:8080/"
    },
    "id": "WkK6GMBTbcQ-",
    "outputId": "c77b043a-bf91-4316-9c89-5ebafac6aae4"
   },
   "outputs": [
    {
     "data": {
      "text/plain": [
       "array([1, 3, 0, 3, 1])"
      ]
     },
     "execution_count": 8,
     "metadata": {},
     "output_type": "execute_result"
    }
   ],
   "source": [
    "true_labels[:5]"
   ]
  },
  {
   "cell_type": "markdown",
   "metadata": {
    "id": "zqV6ysgfbzQf"
   },
   "source": [
    "The dataset is actually labeled and true_labels represents the labels of each data point. However, to emphasize that this is an unsupervised algorithm, we will leave the labels out of the visualization."
   ]
  },
  {
   "cell_type": "markdown",
   "metadata": {
    "id": "8zaY_L3Bd6n0"
   },
   "source": [
    "Let's visualize the data using a scatter plot"
   ]
  },
  {
   "cell_type": "code",
   "execution_count": 17,
   "metadata": {
    "colab": {
     "base_uri": "https://localhost:8080/",
     "height": 265
    },
    "id": "ImWDoH8fbune",
    "outputId": "4938c194-7c70-4f66-93d7-9b341c149d5f"
   },
   "outputs": [
    {
     "data": {
      "image/png": "[encoded data removed]",
      "text/plain": [
       "<Figure size 640x480 with 1 Axes>"
      ]
     },
     "metadata": {},
     "output_type": "display_data"
    }
   ],
   "source": [
    "plt.scatter(features[:, 0], features[:, 1], s=50);"
   ]
  },
  {
   "cell_type": "markdown",
   "metadata": {
    "id": "oZ0Po241eVa3"
   },
   "source": [
    "By eye, it is relatively easy to pick out the four clusters. "
   ]
  },
  {
   "cell_type": "markdown",
   "metadata": {
    "id": "M5krJDxxeniW"
   },
   "source": [
    "## Feature Scaling\n",
    "Data sets usually contain numerical features that have been measured in different units, such as height (in inches) and weight (in pounds). A machine learning algorithm would consider weight more important than height only because the values for weight are larger and have higher variability from person to person.\n",
    "\n",
    "Machine learning algorithms need to consider all features on an even playing field. That means the values for all features must be transformed to the same scale.\n",
    "\n",
    "The process of transforming numerical features to use the same scale is known as feature scaling. It’s an important data preprocessing step for most distance-based machine learning algorithms because it can have a significant impact on the performance of your algorithm.\n",
    "\n",
    "There are several approaches to implementing feature scaling. In this example, we’ll use the StandardScaler class. This class implements a type of feature scaling called standardization. Standardization scales, or shifts, the values for each numerical feature in your dataset so that the features have a mean of 0 and standard deviation of 1:"
   ]
  },
  {
   "cell_type": "code",
   "execution_count": 12,
   "metadata": {
    "colab": {
     "base_uri": "https://localhost:8080/"
    },
    "id": "P8jeu3OgeBXC",
    "outputId": "c5140014-1a68-48ff-a904-3aa069da2fd4"
   },
   "outputs": [
    {
     "data": {
      "text/plain": [
       "array([[ 0.51625508, -0.70722723],\n",
       "       [-0.86166376,  1.3290677 ],\n",
       "       [ 0.71117444,  0.43704896],\n",
       "       [-0.61979222,  1.48557283],\n",
       "       [ 0.78228231, -0.8013784 ]])"
      ]
     },
     "execution_count": 12,
     "metadata": {},
     "output_type": "execute_result"
    }
   ],
   "source": [
    "scaler = StandardScaler()\n",
    "X = scaler.fit_transform(features)\n",
    "X[:5]"
   ]
  },
  {
   "cell_type": "markdown",
   "metadata": {
    "id": "WfRfxn3sfFLU"
   },
   "source": [
    "## Building a K-Means Model\n",
    "Now the data is ready to be clustered. The KMeans estimator class in scikit-learn is where you set the algorithm parameters before fitting the estimator to the data. The scikit-learn implementation is flexible, providing several parameters that can be tuned.\n",
    "\n",
    "Here are the parameters used in this example:\n",
    "\n",
    "* **init** controls the initialization technique. The standard version of the k-means algorithm is implemented by setting init to \"random\". Setting this to \"k-means++\" employs an advanced trick to speed up convergence, which you’ll use later.\n",
    "\n",
    "* **n_clusters** sets k for the clustering step. This is the **most important parameter for k-means**.\n",
    "\n",
    "* **n_init** sets the number of initializations to perform. This is important because two runs can converge on different cluster assignments. The default behavior for the scikit-learn algorithm is to perform ten k-means runs and return the results of the one with the lowest SSE.\n",
    "\n",
    "* **max_iter** sets the number of maximum iterations for each initialization of the k-means algorithm.\n",
    "\n",
    "Instantiate the KMeans class with the following arguments:"
   ]
  },
  {
   "cell_type": "code",
   "execution_count": 13,
   "metadata": {
    "id": "xDLmJxnUe3I5"
   },
   "outputs": [],
   "source": [
    "kmeans = KMeans(\n",
    "    init=\"random\",\n",
    "    n_clusters=4,\n",
    "    n_init=10,\n",
    "    max_iter=300,\n",
    "    random_state=0\n",
    ")"
   ]
  },
  {
   "cell_type": "markdown",
   "metadata": {
    "id": "Ps1dAv27f-NA"
   },
   "source": [
    "## Training the model\n",
    "Now that the k-means class is ready, the next step is to fit it to the data in scaled_features. This will perform ten runs of the k-means algorithm on your data with a maximum of 300 iterations per run:"
   ]
  },
  {
   "cell_type": "code",
   "execution_count": 14,
   "metadata": {
    "colab": {
     "base_uri": "https://localhost:8080/"
    },
    "id": "3cNbyOjGfy9N",
    "outputId": "1980086c-f2d9-49d7-9a70-dd4780975e09"
   },
   "outputs": [
    {
     "data": {
      "text/plain": [
       "KMeans(init='random', n_clusters=4, random_state=0)"
      ]
     },
     "execution_count": 14,
     "metadata": {},
     "output_type": "execute_result"
    }
   ],
   "source": [
    "kmeans.fit(X)"
   ]
  },
  {
   "cell_type": "markdown",
   "metadata": {
    "id": "34hL6VZJgWTe"
   },
   "source": [
    "## Assessing the attributes from training\n",
    "Statistics from the initialization run with the lowest SSE are available as attributes of kmeans after calling .fit():"
   ]
  },
  {
   "cell_type": "code",
   "execution_count": 15,
   "metadata": {
    "colab": {
     "base_uri": "https://localhost:8080/"
    },
    "id": "B7-HLSOZgEOz",
    "outputId": "a4927202-e495-4603-805f-cfceac44d0fe"
   },
   "outputs": [
    {
     "data": {
      "text/plain": [
       "56.02477057509949"
      ]
     },
     "execution_count": 15,
     "metadata": {},
     "output_type": "execute_result"
    }
   ],
   "source": [
    "# The lowest SSE value\n",
    "kmeans.inertia_"
   ]
  },
  {
   "cell_type": "code",
   "execution_count": 16,
   "metadata": {
    "colab": {
     "base_uri": "https://localhost:8080/"
    },
    "id": "shAHbhKYgkxB",
    "outputId": "8d6f3116-f332-4299-da0e-6d6c1fec64d2"
   },
   "outputs": [
    {
     "data": {
      "text/plain": [
       "array([[-0.83691948,  1.46193015],\n",
       "       [ 0.58536699,  0.17425154],\n",
       "       [ 1.21774671, -1.19712077],\n",
       "       [-0.96619422, -0.43906093]])"
      ]
     },
     "execution_count": 16,
     "metadata": {},
     "output_type": "execute_result"
    }
   ],
   "source": [
    "# Final locations of the centroids\n",
    "kmeans.cluster_centers_"
   ]
  },
  {
   "cell_type": "code",
   "execution_count": 17,
   "metadata": {
    "colab": {
     "base_uri": "https://localhost:8080/"
    },
    "id": "UsjiAVgOgo1k",
    "outputId": "51b17ef9-62a8-4f37-d38e-a299db5203fa"
   },
   "outputs": [
    {
     "data": {
      "text/plain": [
       "6"
      ]
     },
     "execution_count": 17,
     "metadata": {},
     "output_type": "execute_result"
    }
   ],
   "source": [
    "# The number of iterations required to converge\n",
    "kmeans.n_iter_"
   ]
  },
  {
   "cell_type": "markdown",
   "metadata": {
    "id": "lYuf4UVbgxnx"
   },
   "source": [
    "Finally, the cluster assignments are stored as a one-dimensional NumPy array in kmeans.labels_. Here’s a look at the first five predicted labels:"
   ]
  },
  {
   "cell_type": "code",
   "execution_count": 18,
   "metadata": {
    "colab": {
     "base_uri": "https://localhost:8080/"
    },
    "id": "T5vN-jsCgrkX",
    "outputId": "2a60353b-64e8-4eab-ac7d-238f46ed2a4a"
   },
   "outputs": [
    {
     "data": {
      "text/plain": [
       "array([2, 0, 1, 0, 2, 2, 3, 1, 0, 0, 3, 0, 1, 0, 2, 1, 1, 2, 3, 3, 2, 2,\n",
       "       1, 3, 3, 1, 2, 1, 3, 1, 0, 0, 1, 0, 0, 0, 0, 0, 3, 2, 1, 3, 1, 1,\n",
       "       3, 3, 0, 3, 0, 2, 3, 2, 0, 2, 2, 3, 0, 3, 0, 2, 0, 1, 0, 3, 3, 3,\n",
       "       0, 2, 0, 3, 1, 3, 0, 3, 3, 0, 3, 1, 2, 0, 2, 1, 2, 2, 0, 1, 2, 1,\n",
       "       0, 0, 1, 2, 0, 3, 3, 1, 2, 2, 1, 3, 0, 2, 0, 2, 1, 2, 2, 1, 0, 1,\n",
       "       3, 3, 2, 0, 2, 1, 0, 2, 2, 1, 3, 2, 3, 2, 2, 2, 2, 3, 2, 3, 0, 3,\n",
       "       3, 2, 0, 3, 3, 0, 1, 0, 0, 3, 1, 3, 1, 3, 0, 1, 0, 0, 0, 1, 0, 1,\n",
       "       2, 3, 0, 3, 2, 1, 0, 1, 1, 2, 1, 3, 3, 1, 2, 1, 1, 0, 2, 1, 3, 0,\n",
       "       2, 2, 1, 3, 2, 1, 3, 3, 1, 1, 1, 1, 2, 0, 1, 3, 1, 1, 3, 3, 3, 1,\n",
       "       3, 0, 1, 3, 2, 3, 1, 0, 3, 0, 1, 0, 1, 3, 1, 1, 0, 3, 3, 2, 2, 1,\n",
       "       0, 2, 2, 3, 2, 3, 1, 0, 0, 1, 1, 0, 1, 2, 3, 1, 2, 3, 0, 3, 2, 1,\n",
       "       2, 0, 0, 0, 0, 3, 3, 0, 1, 3, 2, 1, 3, 3, 3, 2, 2, 0, 1, 1, 3, 2,\n",
       "       0, 3, 1, 0, 1, 2, 2, 3, 3, 1, 2, 2, 2, 1, 0, 0, 2, 2, 1, 2, 2, 2,\n",
       "       0, 3, 0, 1, 2, 2, 0, 0, 0, 2, 2, 1, 0, 3])"
      ]
     },
     "execution_count": 18,
     "metadata": {},
     "output_type": "execute_result"
    }
   ],
   "source": [
    "kmeans.labels_"
   ]
  },
  {
   "cell_type": "markdown",
   "metadata": {
    "id": "5QhW6Zcyg-ia"
   },
   "source": [
    "**Note:** Ordering of cluster labels is dependent on the initialization. So it's normal to see that clusters with true_labels as 3 labeled with 2 here. This doesn’t affect clustering evaluation metrics."
   ]
  },
  {
   "cell_type": "markdown",
   "metadata": {
    "id": "B-zvXSO2hdKE"
   },
   "source": [
    "Rather than using labels_, you can also get the predicted the labels using the `predict` method."
   ]
  },
  {
   "cell_type": "code",
   "execution_count": 19,
   "metadata": {
    "colab": {
     "base_uri": "https://localhost:8080/"
    },
    "id": "veNwpPTag1__",
    "outputId": "b71955c6-c43f-40ed-a1b5-e2035d04e898"
   },
   "outputs": [
    {
     "data": {
      "text/plain": [
       "array([2, 0, 1, 0, 2])"
      ]
     },
     "execution_count": 19,
     "metadata": {},
     "output_type": "execute_result"
    }
   ],
   "source": [
    "y_kmeans = kmeans.predict(X)\n",
    "y_kmeans[:5]"
   ]
  },
  {
   "cell_type": "markdown",
   "metadata": {
    "id": "8wszIJTIh8lh"
   },
   "source": [
    "## Visualizing results\n",
    "Let's visualize the results by plotting the data colored by these labels. We will also plot the cluster centers as determined by the k-means estimator:"
   ]
  },
  {
   "cell_type": "code",
   "execution_count": 20,
   "metadata": {},
   "outputs": [
    {
     "data": {
      "text/plain": [
       "array([ 0.51625508, -0.86166376,  0.71117444, -0.61979222,  0.78228231,\n",
       "        2.10861828, -1.10324303,  0.86945278, -0.12159925, -0.43150951,\n",
       "       -1.04455722, -1.63088687,  0.7646714 , -1.36015934,  0.89480919,\n",
       "        0.28171651,  0.65853501,  1.57701536, -0.64935853, -0.65651282,\n",
       "        1.66622125,  1.0919422 ,  0.45350191, -1.21850803, -1.17062784,\n",
       "       -0.33625538,  1.04318676,  0.36802836, -1.75960686,  0.11820038,\n",
       "       -0.31042356, -1.25556833,  1.15047968, -0.68873218, -1.00287209,\n",
       "       -1.47740978, -1.230501  , -1.6011428 , -1.34495244,  1.02257982,\n",
       "        0.41396352, -1.21171728, -0.02520366,  0.94959676, -1.03821029,\n",
       "       -0.62181818, -0.84009197, -0.94649278, -0.90169688,  1.22164093,\n",
       "       -1.18988   ,  1.50705237, -0.54369436,  1.04281865,  1.07929158,\n",
       "       -0.67613548, -0.02153601, -0.69467203, -1.10209635,  0.85654194,\n",
       "       -1.37800709,  0.35388989, -0.94510839, -0.63177787, -1.28774654,\n",
       "       -0.72260035, -1.50114222,  1.45470636, -1.62889831, -0.91281812,\n",
       "        0.81343033, -0.29446654, -0.6311629 , -0.97879685, -0.91680928,\n",
       "       -0.47700875, -1.07239045,  0.73252848,  1.3143973 , -0.63006905,\n",
       "        0.77209479,  0.36858821,  0.78730411,  1.06282315, -0.57719384,\n",
       "        0.57654408,  1.45448066,  0.26627814, -1.24979571, -0.88803297,\n",
       "        0.32801954,  1.0949044 , -1.19356975, -1.06497481, -0.71847443,\n",
       "        0.71662223,  0.83751298,  1.59661344,  0.17065365, -1.90787668,\n",
       "       -0.35619167,  1.02580898, -0.41416719,  1.45366814,  0.64823592,\n",
       "        1.36744074,  1.49740858,  0.82720216, -0.80098266,  0.60547068,\n",
       "       -0.64693769, -0.98011737,  0.96710792, -1.32996037,  1.12662626,\n",
       "        1.29340941, -1.00231981,  0.6807395 ,  0.99056269,  0.28523269,\n",
       "       -0.32554023,  1.03151441, -0.61583289,  0.82550879,  0.87826398,\n",
       "        1.25599662,  1.02807978, -0.82797731,  0.6962206 , -1.06083766,\n",
       "       -0.20445553, -0.99898213, -1.02935549,  1.49193487, -0.84104397,\n",
       "       -0.76296401, -1.462401  , -1.27688904,  0.30289519, -0.32640081,\n",
       "       -1.58313624, -0.63690439,  0.77267957, -0.98892135,  1.14833912,\n",
       "       -1.07619233, -0.84216981,  0.00873033, -0.67144849, -1.0942373 ,\n",
       "       -0.92173425,  0.59126033, -0.36430559,  0.14138528,  0.96345099,\n",
       "       -0.62918213, -0.5608016 , -1.15092272,  1.14804181,  0.67812547,\n",
       "       -1.17911208,  0.41438707,  0.45932463,  1.00801716,  0.5031594 ,\n",
       "       -1.60807242, -0.58456233,  0.1348868 ,  0.88230882,  0.74709078,\n",
       "        0.66679281, -0.74679871,  0.91107239,  1.1646966 , -0.8065005 ,\n",
       "       -0.70017222,  1.51566151,  1.41884006,  0.35457767, -0.58867594,\n",
       "        1.61102938,  1.03465096, -1.35616777, -0.96256825,  0.05378357,\n",
       "        0.88118892,  0.65452936,  0.47380404,  1.51629358, -1.05634889,\n",
       "        0.21641596, -0.60925389,  0.62604921,  0.34645627, -1.2930388 ,\n",
       "       -0.83015405, -1.70047601,  1.01549542, -1.18368532, -1.10731728,\n",
       "        0.73989742, -0.58953676,  1.14872995, -1.10250146,  0.74941798,\n",
       "       -0.90454157, -0.95363977, -0.41627057,  0.66284271, -0.59369142,\n",
       "        0.84858822, -1.00103929,  0.00274217,  1.05357413, -0.85651149,\n",
       "       -0.42972493, -0.53847201,  1.2188404 ,  1.81126451,  0.26830739,\n",
       "       -1.13875117,  1.55111544,  1.25331278, -1.57604627,  0.99569311,\n",
       "       -1.5806926 ,  0.27547556, -0.2757938 , -0.68717806,  1.30802719,\n",
       "        0.61842327, -0.84930181,  0.44966592,  0.55093566, -0.67441476,\n",
       "        0.48716114,  1.21343412, -0.76086464, -0.65595992, -1.14014366,\n",
       "        1.698685  ,  0.17358283,  2.09223113, -0.96402488, -0.9330649 ,\n",
       "       -1.11324497, -1.02821571, -1.00700897, -0.79477402, -0.44350908,\n",
       "        1.4770877 , -0.93676164,  0.91529658,  0.31877628, -1.10720746,\n",
       "       -1.18227953, -0.37261389,  1.24781828,  1.31974364, -0.83492955,\n",
       "        0.5636948 ,  0.20826068, -1.31842995,  0.84071408, -0.34579178,\n",
       "       -0.61177739,  0.91917348, -0.35763815,  0.44175496,  1.29814959,\n",
       "        0.73910488, -1.55481841, -1.19535519,  1.43543259,  2.05693766,\n",
       "        1.13220571,  0.8120721 ,  1.28768161, -0.75722362, -1.134382  ,\n",
       "        1.68557087,  1.60053682,  1.02018469,  1.4436307 ,  1.36508262,\n",
       "        1.98077505, -0.95050946, -0.39223689, -0.8085373 ,  0.56544576,\n",
       "        1.4088433 ,  1.11550728, -0.68196894, -1.00947337, -0.77718302,\n",
       "        1.21230664,  1.54577496,  0.27265393,  0.23009426, -1.0929784 ])"
      ]
     },
     "execution_count": 20,
     "metadata": {},
     "output_type": "execute_result"
    }
   ],
   "source": [
    "X[:, 0]"
   ]
  },
  {
   "cell_type": "code",
   "execution_count": 21,
   "metadata": {},
   "outputs": [
    {
     "data": {
      "text/plain": [
       "array([-0.70722723,  1.3290677 ,  0.43704896,  1.48557283, -0.8013784 ,\n",
       "       -1.43115321, -0.91549656,  0.15961938,  1.72390048,  1.81207571,\n",
       "       -0.45953113,  1.69370116,  0.2070449 ,  1.13026612, -1.54346749,\n",
       "       -0.00438029,  0.21735249, -1.33639314, -0.32288814, -0.68090851,\n",
       "       -1.03373539, -1.07399947,  0.41296662, -0.431015  , -0.52619438,\n",
       "        0.28117366, -1.1977347 ,  0.28645966, -0.64234601,  0.02278917,\n",
       "        1.50853321,  1.31705549,  0.0822013 ,  1.08073134,  1.53424249,\n",
       "        1.34061439,  1.35786636,  1.55177363, -0.57473133, -1.2761363 ,\n",
       "       -0.14380893, -0.73856444,  0.58171547,  0.09382026, -0.58187081,\n",
       "       -0.46323634,  1.5967009 , -0.47190828,  1.39067292, -0.94918863,\n",
       "       -0.18689193, -1.29230067,  1.40920307, -1.24067997, -0.73849667,\n",
       "       -0.4424106 ,  1.48317408, -0.76934064,  1.45212872, -1.17346897,\n",
       "        1.28753831,  0.13710988,  2.05245452, -0.39178596, -0.33249774,\n",
       "       -0.4570308 ,  1.36851879, -1.16506848,  1.4982178 , -0.2910202 ,\n",
       "        0.08147367, -0.24684466,  1.58137264, -0.38367031, -0.78928746,\n",
       "        1.73202002, -0.38357802,  0.29344285, -1.25954131,  1.63643465,\n",
       "       -1.49757991,  0.04569048, -1.12368149, -1.08915946,  1.73631406,\n",
       "        0.52670405, -1.22530128,  0.38853954,  1.03739047,  1.35883083,\n",
       "       -0.06174483, -1.18150544,  1.79503795, -0.36913145, -0.3244262 ,\n",
       "       -0.06815281, -1.00455731, -1.11205808,  0.5800579 , -0.26495876,\n",
       "        1.79424878, -1.70070161,  1.43150676, -1.31896113,  0.22287299,\n",
       "       -1.04449054, -1.56019221,  0.34340357,  1.10873443,  0.5435082 ,\n",
       "       -0.67973515, -0.15573318, -1.34531891,  1.59019626, -1.24101765,\n",
       "       -0.18253101,  1.37436224, -1.04413477, -0.82804996,  0.57228316,\n",
       "       -0.36738822, -1.29700573, -0.14105358, -1.30298091, -0.90494167,\n",
       "       -1.09770853, -1.27760023, -0.63553813, -1.17089789, -0.77996393,\n",
       "        1.6216632 , -0.59256489, -0.66679063, -1.55674037,  1.2423431 ,\n",
       "       -0.6289322 , -0.22001537,  1.35679444, -0.27023217,  1.347099  ,\n",
       "        1.58653093, -0.38730628, -0.22620153,  0.11742786,  0.56899873,\n",
       "       -0.67406791,  1.28195269,  0.0804446 ,  1.28759648,  1.3951952 ,\n",
       "        1.53552131,  0.22897636,  0.90056201,  0.30987385, -1.52531511,\n",
       "       -0.40421233,  1.59522958, -0.66398383, -1.16298833,  0.35601515,\n",
       "        1.67537548,  0.02823634,  0.05969362, -0.82958783,  0.3156583 ,\n",
       "       -0.5161817 , -1.04020191,  0.35433716, -1.02763474, -0.12351944,\n",
       "        0.03664525,  1.67142393, -1.2657167 ,  0.47017474,  0.06282253,\n",
       "        1.51582348, -0.88392692, -1.02872056,  0.04642912, -0.32667118,\n",
       "       -1.16527025,  0.0880477 , -0.47779444, -0.36042233,  0.23153884,\n",
       "        0.15792619,  0.46667959,  0.1659599 , -1.0245869 ,  1.23440176,\n",
       "       -0.19927287, -0.43210816,  0.19981552,  0.09506574, -0.74645208,\n",
       "       -0.61185715, -0.37677313, -0.12047732, -0.68673152,  1.54867329,\n",
       "       -0.12498821, -0.27054138, -1.57387315, -0.73372546, -0.02893055,\n",
       "        0.78773728, -0.43030045,  1.82073259,  0.27686715,  1.06956895,\n",
       "        0.22414093, -0.49692236,  0.23695826,  0.40831766,  1.45128172,\n",
       "       -0.56517897, -0.5104848 , -1.34314759, -1.66515574,  0.14177035,\n",
       "        1.41242718, -1.29362116, -1.35655164, -0.30096035, -1.50607062,\n",
       "       -0.32307605, -0.32920119,  1.28905648,  1.48178204,  0.47275951,\n",
       "        0.08636584,  1.84527661, -0.04344488, -1.14181661, -0.40456491,\n",
       "        0.14274808, -1.25455122, -0.34077413,  1.89727022, -0.34290372,\n",
       "       -1.11212193,  0.33844993, -1.19534591,  1.38446319,  1.44329141,\n",
       "        1.30974698,  1.53904744, -0.20150753, -0.37252391,  0.87821885,\n",
       "        0.34856402, -0.36815271, -1.28056077,  0.2546751 , -0.26170608,\n",
       "       -0.02093272, -0.00702224, -1.45619402, -1.13176058,  1.46804747,\n",
       "        0.22486767,  0.37404379, -0.21539313, -1.28699496,  1.60842633,\n",
       "       -0.34128939, -0.04221927,  1.43924042,  0.55819596, -1.0504891 ,\n",
       "       -1.29985387, -0.31570852, -0.59380317, -0.20723099, -0.87589141,\n",
       "       -1.50412147, -0.98992246,  0.33965895,  1.61560957,  1.47546813,\n",
       "       -0.93541545, -1.11170835, -0.1563652 , -1.21245568, -1.20829597,\n",
       "       -1.09517345,  1.26671874, -0.2079085 ,  1.7560329 , -0.02398813,\n",
       "       -1.82794485, -1.09981597,  1.21348877,  1.79420796,  1.54459654,\n",
       "       -0.92214576, -0.9947553 ,  0.21937748,  1.47637871, -0.47039493])"
      ]
     },
     "execution_count": 21,
     "metadata": {},
     "output_type": "execute_result"
    }
   ],
   "source": [
    "X[:, 1]"
   ]
  },
  {
   "cell_type": "code",
   "execution_count": 22,
   "metadata": {},
   "outputs": [
    {
     "data": {
      "text/plain": [
       "array([[-0.83691948,  1.46193015],\n",
       "       [ 0.58536699,  0.17425154],\n",
       "       [ 1.21774671, -1.19712077],\n",
       "       [-0.96619422, -0.43906093]])"
      ]
     },
     "execution_count": 22,
     "metadata": {},
     "output_type": "execute_result"
    }
   ],
   "source": [
    "kmeans.cluster_centers_"
   ]
  },
  {
   "cell_type": "code",
   "execution_count": 23,
   "metadata": {
    "colab": {
     "base_uri": "https://localhost:8080/",
     "height": 265
    },
    "id": "Q9ixMHBvhtdN",
    "outputId": "d44760c4-fc3f-4c1b-f65a-052dc760a542"
   },
   "outputs": [
    {
     "data": {
      "image/png": "[encoded data removed]",
      "text/plain": [
       "<Figure size 432x288 with 1 Axes>"
      ]
     },
     "metadata": {
      "needs_background": "light"
     },
     "output_type": "display_data"
    }
   ],
   "source": [
    "plt.scatter(X[:, 0], X[:, 1], c=y_kmeans, s=50, cmap='viridis')\n",
    "\n",
    "centers = kmeans.cluster_centers_\n",
    "plt.scatter(centers[:, 0], centers[:, 1], c='black', s=200, alpha=0.5);"
   ]
  },
  {
   "cell_type": "markdown",
   "metadata": {
    "id": "u9oyZYiSiaaP"
   },
   "source": [
    "The good news is that the k-means algorithm (at least in this simple case) assigns the points to clusters very similarly to how we might assign them by eye. "
   ]
  },
  {
   "cell_type": "markdown",
   "metadata": {
    "id": "ao-Pfqj8kd4Z"
   },
   "source": [
    "# Conclusion\n",
    "In this notebook, we implemented K-Means algorithm to identify the clusters in a simple dataset. "
   ]
  },
  {
   "cell_type": "markdown",
   "metadata": {
    "id": "s9ggmshRkpDN"
   },
   "source": [
    "# References\n",
    "\n",
    "\n",
    "*   https://colab.research.google.com/github/jakevdp/PythonDataScienceHandbook/blob/master/notebooks/05.11-K-Means.ipynb#scrollTo=VGwRIScwNnlb\n",
    "*   https://realpython.com/k-means-clustering-python/#how-to-perform-k-means-clustering-in-python\n",
    "\n"
   ]
  }
 ],
 "metadata": {
  "colab": {
   "collapsed_sections": [],
   "name": "KMeans.ipynb",
   "provenance": []
  },
  "kernelspec": {
   "display_name": "Python 3 (ipykernel)",
   "language": "python",
   "name": "python3"
  },
  "language_info": {
   "codemirror_mode": {
    "name": "ipython",
    "version": 3
   },
   "file_extension": ".py",
   "mimetype": "text/x-python",
   "name": "python",
   "nbconvert_exporter": "python",
   "pygments_lexer": "ipython3",
   "version": "3.9.7"
  }
 },
 "nbformat": 4,
 "nbformat_minor": 1
}
